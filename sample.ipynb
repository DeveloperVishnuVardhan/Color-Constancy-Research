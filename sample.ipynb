{
 "cells": [
  {
   "cell_type": "code",
   "execution_count": 1,
   "metadata": {},
   "outputs": [],
   "source": [
    "import matplotlib.pyplot as plt\n",
    "from PIL import Image\n",
    "import numpy as np\n",
    "\n",
    "import cv2\n",
    "import numpy as np\n",
    "\n",
    " \n",
    "def display_image(image_path: str):\n",
    "    # Load the 16-bit image\n",
    "    image = cv2.imread(image_path, cv2.IMREAD_UNCHANGED)\n",
    "    print(image.dtype, image.max())\n",
    "    # Reverse gamma correction\n",
    "    gamma = 2.2\n",
    "    linearized_image = (image / image.max()) ** (1 / gamma)\n",
    "    print(linearized_image.dtype, linearized_image.max())\n",
    "    # Scale to 16-bit range\n",
    "    #scaled_image = (linearized_image * image.max()).astype(np.uint16)\n",
    "\n",
    "    cv2.imwrite(\"test.jpeg\", (linearized_image * 65535).astype(np.uint16))\n",
    "    cv2.imshow('Image', (linearized_image * 65535).astype(np.uint16))\n",
    "\n",
    "    while True:\n",
    "        key = cv2.waitKey(1) & 0xFF \n",
    "        if key == ord('q'):\n",
    "            break\n",
    "    cv2.destroyWindow('Image')\n",
    "    cv2.waitKey(1)\n"
   ]
  },
  {
   "cell_type": "code",
   "execution_count": 2,
   "metadata": {},
   "outputs": [
    {
     "name": "stdout",
     "output_type": "stream",
     "text": [
      "uint16 3692\n",
      "float64 1.0\n"
     ]
    }
   ],
   "source": [
    "display_image(\"Data/Canon_5d_1/png/IMG_0411.png\")"
   ]
  },
  {
   "cell_type": "code",
   "execution_count": 2,
   "metadata": {},
   "outputs": [
    {
     "name": "stdout",
     "output_type": "stream",
     "text": [
      "(568, 24, 3)\n"
     ]
    }
   ],
   "source": [
    "import scipy.io\n",
    "\n",
    "mat_data = scipy.io.loadmat('assests/groundtruth_568/colourchecker_gamma1_bit12.mat')\n",
    "for key in mat_data:\n",
    "    # Skip keys that are a part of MATLAB's metadata\n",
    "    if key.startswith('__'):\n",
    "        continue\n",
    "\n",
    "    data = mat_data[key]\n",
    "    print(data.shape)"
   ]
  },
  {
   "cell_type": "markdown",
   "metadata": {},
   "source": [
    "# Understanding the working of Data_preparation steps"
   ]
  },
  {
   "cell_type": "code",
   "execution_count": 1,
   "metadata": {},
   "outputs": [
    {
     "name": "stdout",
     "output_type": "stream",
     "text": [
      "Getting Shigehler patch corners....\n",
      "568\n"
     ]
    }
   ],
   "source": [
    "import configparser\n",
    "from Data_preparation import get_shigehler_patch_corners\n",
    "\n",
    "def main(shigehler_config):\n",
    "    shigehler_patch_corners = get_shigehler_patch_corners(shigehler_config)\n",
    "if __name__ == \"__main__\":\n",
    "    shigehler_config = configparser.ConfigParser()\n",
    "    shigehler_config.read(\"assests/shigehler.cfg\")\n",
    "    \n",
    "    main(shigehler_config)"
   ]
  },
  {
   "cell_type": "code",
   "execution_count": 1,
   "metadata": {},
   "outputs": [],
   "source": [
    "import configparser\n",
    "import numpy as np"
   ]
  },
  {
   "cell_type": "code",
   "execution_count": 2,
   "metadata": {},
   "outputs": [],
   "source": [
    "dataset = np.load(\"Data/shigehler.npz\")\n",
    "patches = dataset['data']\n",
    "patch_labels = dataset['patch_labels']\n",
    "image_idx = dataset['image_idx']"
   ]
  },
  {
   "cell_type": "code",
   "execution_count": 3,
   "metadata": {},
   "outputs": [
    {
     "name": "stdout",
     "output_type": "stream",
     "text": [
      "patches shape: (56800, 32, 32, 3)\n",
      "patch_labels shape: (56800, 3)\n",
      "image_idx shape: (56800,)\n"
     ]
    }
   ],
   "source": [
    "print(\"patches shape: {}\".format(patches.shape))\n",
    "print(\"patch_labels shape: {}\".format(patch_labels.shape))\n",
    "print(\"image_idx shape: {}\".format(image_idx.shape))"
   ]
  },
  {
   "cell_type": "code",
   "execution_count": 4,
   "metadata": {},
   "outputs": [],
   "source": [
    "import torch\n",
    "# Convert numpy arrays to torch tensors.\n",
    "patches_tensor = torch.from_numpy(patches).permute(0, 3, 1, 2).float()\n",
    "patches_labels_tensor = torch.from_numpy(patch_labels).float()\n",
    "\n",
    "# Split the dataset into train and val.\n",
    "num_images = 568\n",
    "patches_per_image = 100\n",
    "train_images = int(0.8 * num_images)\n",
    "train_size = train_images * patches_per_image\n",
    "\n",
    "train_patches, train_patch_labels, train_idx = patches_tensor[:train_size], patches_labels_tensor[:train_size], image_idx[:train_size]\n",
    "val_patches, val_patch_labels, val_idx = patches_tensor[train_size:], patches_labels_tensor[train_size:], image_idx[train_size:]"
   ]
  },
  {
   "cell_type": "code",
   "execution_count": 5,
   "metadata": {},
   "outputs": [
    {
     "name": "stdout",
     "output_type": "stream",
     "text": [
      "torch.Size([45400, 3, 32, 32]), torch.Size([45400, 3]), (45400,)\n",
      "torch.Size([11400, 3, 32, 32]), torch.Size([11400, 3]), (11400,)\n"
     ]
    }
   ],
   "source": [
    "print(f\"{train_patches.shape}, {train_patch_labels.shape}, {train_idx.shape}\")\n",
    "print(f\"{val_patches.shape}, {val_patch_labels.shape}, {val_idx.shape}\")"
   ]
  },
  {
   "cell_type": "code",
   "execution_count": 6,
   "metadata": {},
   "outputs": [
    {
     "name": "stdout",
     "output_type": "stream",
     "text": [
      "<torch.utils.data.dataloader.DataLoader object at 0x12780ad90>, <torch.utils.data.dataloader.DataLoader object at 0x12780a070>\n"
     ]
    }
   ],
   "source": [
    "from torch.utils.data import DataLoader, TensorDataset\n",
    "\n",
    "train_dataset = TensorDataset(train_patches, train_patch_labels)\n",
    "val_dataset = TensorDataset(val_patches, val_patch_labels)\n",
    "\n",
    "train_loader = DataLoader(train_dataset, batch_size=32, shuffle=True)\n",
    "val_loader = DataLoader(val_dataset, batch_size=32)\n",
    "\n",
    "print(f\"{train_loader}, {val_loader}\")"
   ]
  },
  {
   "cell_type": "code",
   "execution_count": 7,
   "metadata": {},
   "outputs": [
    {
     "name": "stdout",
     "output_type": "stream",
     "text": [
      "Epoch [1/2], Train Loss: 1.2322411508607225, Val Loss: 1.2303143743039513\n",
      "Epoch [2/2], Train Loss: 1.2322375285449039, Val Loss: 1.2303143743039513\n",
      "Training Finished!\n"
     ]
    }
   ],
   "source": [
    "from Models import IlluminantEstimationCNN\n",
    "from train import euclidean_distance_loss\n",
    "import torch.optim as optim\n",
    "\n",
    "model = IlluminantEstimationCNN()\n",
    "optimizer = optim.SGD(model.parameters(), lr=0.01, momentum=0.9, weight_decay=0.0005)\n",
    "\n",
    "device = \"mps\"\n",
    "model = IlluminantEstimationCNN().to(device)\n",
    "# Training loop with validation.\n",
    "num_epochs = 2\n",
    "best_loss = float('inf')\n",
    "for epoch in range(num_epochs):\n",
    "    model.train()\n",
    "    total_train_loss = 0.0\n",
    "    for data, target in train_loader:\n",
    "        data, target = data.to(device), target.to(device)\n",
    "        optimizer.zero_grad()\n",
    "        output = model(data)\n",
    "        loss = euclidean_distance_loss(target, output)\n",
    "        loss.backward()\n",
    "        optimizer.step()\n",
    "        total_train_loss += loss.item()\n",
    "\n",
    "    model.eval()\n",
    "    total_val_loss = 0.0\n",
    "    with torch.no_grad():\n",
    "        for data, target in val_loader:\n",
    "            data, target = data.to(device), target.to(device)\n",
    "            output = model(data)\n",
    "            loss = euclidean_distance_loss(target, output)\n",
    "            total_val_loss += loss.item()\n",
    "\n",
    "    avg_train_loss = total_train_loss / len(train_loader)\n",
    "    avg_val_loss = total_val_loss / len(val_loader)\n",
    "    \n",
    "    # Print statistics\n",
    "    print(f\"Epoch [{epoch + 1}/{num_epochs}], Train Loss: {avg_train_loss}, Val Loss: {avg_val_loss}\")\n",
    "\n",
    "    # Save the best model\n",
    "    if avg_val_loss < best_loss:\n",
    "        best_loss = avg_val_loss\n",
    "        torch.save(model.state_dict(), 'best_model.pth')\n",
    "    \n",
    "print(\"Training Finished!\")"
   ]
  },
  {
   "cell_type": "code",
   "execution_count": null,
   "metadata": {},
   "outputs": [],
   "source": [
    "model.eval()  # set model to evaluation mode\n",
    "predictions_dict = {}\n",
    "\n",
    "with torch.no_grad():\n",
    "    for image, label, idx in zip(patches_tensor, patch_labels_tensor, image_idx):\n",
    "        output = model(image.unsqueeze(0))  # Add batch dimension\n",
    "        # Convert tensor output to numpy and remove batch dimension\n",
    "        pred = output.squeeze(0).numpy()\n",
    "        \n",
    "        if idx in predictions_dict:\n",
    "            predictions_dict[idx].append(pred)\n",
    "        else:\n",
    "            predictions_dict[idx] = [pred]\n"
   ]
  }
 ],
 "metadata": {
  "kernelspec": {
   "display_name": "env_pytorch",
   "language": "python",
   "name": "python3"
  },
  "language_info": {
   "codemirror_mode": {
    "name": "ipython",
    "version": 3
   },
   "file_extension": ".py",
   "mimetype": "text/x-python",
   "name": "python",
   "nbconvert_exporter": "python",
   "pygments_lexer": "ipython3",
   "version": "3.9.18"
  },
  "orig_nbformat": 4
 },
 "nbformat": 4,
 "nbformat_minor": 2
}
