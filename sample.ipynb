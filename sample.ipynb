{
 "cells": [
  {
   "cell_type": "code",
   "execution_count": 1,
   "metadata": {},
   "outputs": [],
   "source": [
    "import matplotlib.pyplot as plt\n",
    "from PIL import Image\n",
    "import numpy as np\n",
    "\n",
    "import cv2\n",
    "import numpy as np\n",
    "\n",
    " \n",
    "def display_image(image_path: str):\n",
    "    # Load the 16-bit image\n",
    "    image = cv2.imread(image_path, cv2.IMREAD_UNCHANGED)\n",
    "    print(image.dtype, image.max())\n",
    "    # Reverse gamma correction\n",
    "    gamma = 2.2\n",
    "    linearized_image = (image / image.max()) ** (1 / gamma)\n",
    "    print(linearized_image.dtype, linearized_image.max())\n",
    "    # Scale to 16-bit range\n",
    "    #scaled_image = (linearized_image * image.max()).astype(np.uint16)\n",
    "\n",
    "    cv2.imwrite(\"test.jpeg\", (linearized_image * 65535).astype(np.uint16))\n",
    "    cv2.imshow('Image', (linearized_image * 65535).astype(np.uint16))\n",
    "\n",
    "    while True:\n",
    "        key = cv2.waitKey(1) & 0xFF \n",
    "        if key == ord('q'):\n",
    "            break\n",
    "    cv2.destroyWindow('Image')\n",
    "    cv2.waitKey(1)\n"
   ]
  },
  {
   "cell_type": "code",
   "execution_count": 2,
   "metadata": {},
   "outputs": [
    {
     "name": "stdout",
     "output_type": "stream",
     "text": [
      "uint16 3692\n",
      "float64 1.0\n"
     ]
    }
   ],
   "source": [
    "display_image(\"Data/Canon_5d_1/png/IMG_0411.png\")"
   ]
  },
  {
   "cell_type": "code",
   "execution_count": 2,
   "metadata": {},
   "outputs": [
    {
     "name": "stdout",
     "output_type": "stream",
     "text": [
      "(568, 24, 3)\n"
     ]
    }
   ],
   "source": [
    "import scipy.io\n",
    "\n",
    "mat_data = scipy.io.loadmat('assests/groundtruth_568/colourchecker_gamma1_bit12.mat')\n",
    "for key in mat_data:\n",
    "    # Skip keys that are a part of MATLAB's metadata\n",
    "    if key.startswith('__'):\n",
    "        continue\n",
    "\n",
    "    data = mat_data[key]\n",
    "    print(data.shape)"
   ]
  },
  {
   "cell_type": "markdown",
   "metadata": {},
   "source": [
    "# Understanding the working of Data_preparation steps"
   ]
  },
  {
   "cell_type": "code",
   "execution_count": 1,
   "metadata": {},
   "outputs": [
    {
     "name": "stdout",
     "output_type": "stream",
     "text": [
      "Getting Shigehler patch corners....\n",
      "568\n",
      "original (888, 2)\n",
      "(803, 2)\n"
     ]
    }
   ],
   "source": [
    "import configparser\n",
    "from Data_preparation import get_shigehler_patch_corners\n",
    "\n",
    "def main(shigehler_config):\n",
    "    shigehler_patch_corners = get_shigehler_patch_corners(shigehler_config)\n",
    "if __name__ == \"__main__\":\n",
    "    shigehler_config = configparser.ConfigParser()\n",
    "    shigehler_config.read(\"assests/shigehler.cfg\")\n",
    "    \n",
    "    main(shigehler_config)"
   ]
  }
 ],
 "metadata": {
  "kernelspec": {
   "display_name": "env_pytorch",
   "language": "python",
   "name": "python3"
  },
  "language_info": {
   "codemirror_mode": {
    "name": "ipython",
    "version": 3
   },
   "file_extension": ".py",
   "mimetype": "text/x-python",
   "name": "python",
   "nbconvert_exporter": "python",
   "pygments_lexer": "ipython3",
   "version": "3.9.18"
  },
  "orig_nbformat": 4
 },
 "nbformat": 4,
 "nbformat_minor": 2
}
